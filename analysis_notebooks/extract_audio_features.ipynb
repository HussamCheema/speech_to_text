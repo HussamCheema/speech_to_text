{
  "nbformat": 4,
  "nbformat_minor": 0,
  "metadata": {
    "colab": {
      "name": "extract_audio_features.ipynb",
      "provenance": [],
      "collapsed_sections": []
    },
    "kernelspec": {
      "name": "python3",
      "display_name": "Python 3"
    },
    "language_info": {
      "name": "python"
    }
  },
  "cells": [
    {
      "cell_type": "code",
      "source": [
        "!pip install hmmlearn\n",
        "!pip install simplejson\n",
        "!pip install eyed3\n",
        "!pip install pydub\n",
        "!pip install pyAudioAnalysis"
      ],
      "metadata": {
        "colab": {
          "base_uri": "https://localhost:8080/"
        },
        "id": "GrFbQD6dQ6V4",
        "outputId": "de103cae-2aab-4092-ea52-c580a66c6d14"
      },
      "execution_count": 1,
      "outputs": [
        {
          "output_type": "stream",
          "name": "stdout",
          "text": [
            "Collecting hmmlearn\n",
            "  Downloading hmmlearn-0.2.6-cp37-cp37m-manylinux_2_5_x86_64.manylinux1_x86_64.whl (374 kB)\n",
            "\u001b[?25l\r\u001b[K     |▉                               | 10 kB 23.7 MB/s eta 0:00:01\r\u001b[K     |█▊                              | 20 kB 28.4 MB/s eta 0:00:01\r\u001b[K     |██▋                             | 30 kB 18.9 MB/s eta 0:00:01\r\u001b[K     |███▌                            | 40 kB 15.9 MB/s eta 0:00:01\r\u001b[K     |████▍                           | 51 kB 8.8 MB/s eta 0:00:01\r\u001b[K     |█████▎                          | 61 kB 8.8 MB/s eta 0:00:01\r\u001b[K     |██████▏                         | 71 kB 9.0 MB/s eta 0:00:01\r\u001b[K     |███████                         | 81 kB 10.1 MB/s eta 0:00:01\r\u001b[K     |███████▉                        | 92 kB 10.4 MB/s eta 0:00:01\r\u001b[K     |████████▊                       | 102 kB 8.4 MB/s eta 0:00:01\r\u001b[K     |█████████▋                      | 112 kB 8.4 MB/s eta 0:00:01\r\u001b[K     |██████████▌                     | 122 kB 8.4 MB/s eta 0:00:01\r\u001b[K     |███████████▍                    | 133 kB 8.4 MB/s eta 0:00:01\r\u001b[K     |████████████▎                   | 143 kB 8.4 MB/s eta 0:00:01\r\u001b[K     |█████████████▏                  | 153 kB 8.4 MB/s eta 0:00:01\r\u001b[K     |██████████████                  | 163 kB 8.4 MB/s eta 0:00:01\r\u001b[K     |██████████████▉                 | 174 kB 8.4 MB/s eta 0:00:01\r\u001b[K     |███████████████▊                | 184 kB 8.4 MB/s eta 0:00:01\r\u001b[K     |████████████████▋               | 194 kB 8.4 MB/s eta 0:00:01\r\u001b[K     |█████████████████▌              | 204 kB 8.4 MB/s eta 0:00:01\r\u001b[K     |██████████████████▍             | 215 kB 8.4 MB/s eta 0:00:01\r\u001b[K     |███████████████████▎            | 225 kB 8.4 MB/s eta 0:00:01\r\u001b[K     |████████████████████            | 235 kB 8.4 MB/s eta 0:00:01\r\u001b[K     |█████████████████████           | 245 kB 8.4 MB/s eta 0:00:01\r\u001b[K     |█████████████████████▉          | 256 kB 8.4 MB/s eta 0:00:01\r\u001b[K     |██████████████████████▊         | 266 kB 8.4 MB/s eta 0:00:01\r\u001b[K     |███████████████████████▋        | 276 kB 8.4 MB/s eta 0:00:01\r\u001b[K     |████████████████████████▌       | 286 kB 8.4 MB/s eta 0:00:01\r\u001b[K     |█████████████████████████▍      | 296 kB 8.4 MB/s eta 0:00:01\r\u001b[K     |██████████████████████████▎     | 307 kB 8.4 MB/s eta 0:00:01\r\u001b[K     |███████████████████████████     | 317 kB 8.4 MB/s eta 0:00:01\r\u001b[K     |████████████████████████████    | 327 kB 8.4 MB/s eta 0:00:01\r\u001b[K     |████████████████████████████▉   | 337 kB 8.4 MB/s eta 0:00:01\r\u001b[K     |█████████████████████████████▊  | 348 kB 8.4 MB/s eta 0:00:01\r\u001b[K     |██████████████████████████████▋ | 358 kB 8.4 MB/s eta 0:00:01\r\u001b[K     |███████████████████████████████▌| 368 kB 8.4 MB/s eta 0:00:01\r\u001b[K     |████████████████████████████████| 374 kB 8.4 MB/s \n",
            "\u001b[?25hRequirement already satisfied: scikit-learn>=0.16 in /usr/local/lib/python3.7/dist-packages (from hmmlearn) (1.0.2)\n",
            "Requirement already satisfied: scipy>=0.19 in /usr/local/lib/python3.7/dist-packages (from hmmlearn) (1.4.1)\n",
            "Requirement already satisfied: numpy>=1.10 in /usr/local/lib/python3.7/dist-packages (from hmmlearn) (1.19.5)\n",
            "Requirement already satisfied: joblib>=0.11 in /usr/local/lib/python3.7/dist-packages (from scikit-learn>=0.16->hmmlearn) (1.1.0)\n",
            "Requirement already satisfied: threadpoolctl>=2.0.0 in /usr/local/lib/python3.7/dist-packages (from scikit-learn>=0.16->hmmlearn) (3.1.0)\n",
            "Installing collected packages: hmmlearn\n",
            "Successfully installed hmmlearn-0.2.6\n",
            "Collecting simplejson\n",
            "  Downloading simplejson-3.17.6-cp37-cp37m-manylinux_2_5_x86_64.manylinux1_x86_64.manylinux_2_12_x86_64.manylinux2010_x86_64.whl (130 kB)\n",
            "\u001b[K     |████████████████████████████████| 130 kB 7.5 MB/s \n",
            "\u001b[?25hInstalling collected packages: simplejson\n",
            "Successfully installed simplejson-3.17.6\n",
            "Collecting eyed3\n",
            "  Downloading eyeD3-0.9.6-py3-none-any.whl (245 kB)\n",
            "\u001b[K     |████████████████████████████████| 245 kB 7.9 MB/s \n",
            "\u001b[?25hCollecting deprecation<3.0.0,>=2.1.0\n",
            "  Downloading deprecation-2.1.0-py2.py3-none-any.whl (11 kB)\n",
            "Collecting filetype<2.0.0,>=1.0.7\n",
            "  Downloading filetype-1.0.10-py2.py3-none-any.whl (16 kB)\n",
            "Collecting coverage[toml]<6.0.0,>=5.3.1\n",
            "  Downloading coverage-5.5-cp37-cp37m-manylinux2010_x86_64.whl (242 kB)\n",
            "\u001b[K     |████████████████████████████████| 242 kB 16.1 MB/s \n",
            "\u001b[?25hRequirement already satisfied: toml in /usr/local/lib/python3.7/dist-packages (from coverage[toml]<6.0.0,>=5.3.1->eyed3) (0.10.2)\n",
            "Requirement already satisfied: packaging in /usr/local/lib/python3.7/dist-packages (from deprecation<3.0.0,>=2.1.0->eyed3) (21.3)\n",
            "Requirement already satisfied: pyparsing!=3.0.5,>=2.0.2 in /usr/local/lib/python3.7/dist-packages (from packaging->deprecation<3.0.0,>=2.1.0->eyed3) (3.0.7)\n",
            "Installing collected packages: coverage, filetype, deprecation, eyed3\n",
            "  Attempting uninstall: coverage\n",
            "    Found existing installation: coverage 3.7.1\n",
            "    Uninstalling coverage-3.7.1:\n",
            "      Successfully uninstalled coverage-3.7.1\n",
            "\u001b[31mERROR: pip's dependency resolver does not currently take into account all the packages that are installed. This behaviour is the source of the following dependency conflicts.\n",
            "datascience 0.10.6 requires coverage==3.7.1, but you have coverage 5.5 which is incompatible.\n",
            "datascience 0.10.6 requires folium==0.2.1, but you have folium 0.8.3 which is incompatible.\n",
            "coveralls 0.5 requires coverage<3.999,>=3.6, but you have coverage 5.5 which is incompatible.\u001b[0m\n",
            "Successfully installed coverage-5.5 deprecation-2.1.0 eyed3-0.9.6 filetype-1.0.10\n",
            "Collecting pydub\n",
            "  Downloading pydub-0.25.1-py2.py3-none-any.whl (32 kB)\n",
            "Installing collected packages: pydub\n",
            "Successfully installed pydub-0.25.1\n",
            "Collecting pyAudioAnalysis\n",
            "  Downloading pyAudioAnalysis-0.3.13.tar.gz (41.3 MB)\n",
            "\u001b[K     |████████████████████████████████| 41.3 MB 1.3 MB/s \n",
            "\u001b[?25hBuilding wheels for collected packages: pyAudioAnalysis\n",
            "  Building wheel for pyAudioAnalysis (setup.py) ... \u001b[?25l\u001b[?25hdone\n",
            "  Created wheel for pyAudioAnalysis: filename=pyAudioAnalysis-0.3.13-py3-none-any.whl size=41264325 sha256=669028e33ac33ed43253490f073763dd7cfaa9daeb51426309d165d5cd448144\n",
            "  Stored in directory: /root/.cache/pip/wheels/a6/d9/da/100ca8d71ec5b8867b8e1f71ad89d3e1ba21d8bb605df9a18e\n",
            "Successfully built pyAudioAnalysis\n",
            "Installing collected packages: pyAudioAnalysis\n",
            "Successfully installed pyAudioAnalysis-0.3.13\n"
          ]
        }
      ]
    },
    {
      "cell_type": "code",
      "source": [
        "import glob\n",
        "import os\n",
        "import eyed3\n",
        "import ntpath\n",
        "import numpy as np\n",
        "from scipy.io import wavfile\n",
        "import aifc\n",
        "from pydub import AudioSegment"
      ],
      "metadata": {
        "id": "6pXrKva-TwRw"
      },
      "execution_count": 2,
      "outputs": []
    },
    {
      "cell_type": "markdown",
      "source": [
        "### These functions taken from pyAudioAnalysis library"
      ],
      "metadata": {
        "id": "BtpFHdVRUOOT"
      }
    },
    {
      "cell_type": "code",
      "source": [
        "def convert_dir_mp3_to_wav(audio_folder, sampling_rate, num_channels,\n",
        "                           use_tags=False):\n",
        "    \"\"\"\n",
        "    This function converts the MP3 files stored in a folder to WAV. If required,\n",
        "    the output names of the WAV files are based on MP3 tags, otherwise the same\n",
        "    names are used.\n",
        "    ARGUMENTS:\n",
        "     - audio_folder:    the path of the folder where the MP3s are stored\n",
        "     - sampling_rate:   the sampling rate of the generated WAV files\n",
        "     - num_channels:    the number of channels of the generated WAV files\n",
        "     - use_tags:        True if the WAV filename is generated on MP3 tags\n",
        "    \"\"\"\n",
        "\n",
        "    types = (audio_folder + os.sep + '*.mp3',)  # the tuple of file types\n",
        "    files_list = []\n",
        "\n",
        "    for files in types:\n",
        "        files_list.extend(glob.glob(files))\n",
        "\n",
        "    for f in files_list:\n",
        "        audio_file = eyed3.load(f)\n",
        "        if use_tags and audio_file.tag != None:\n",
        "            artist = audio_file.tag.artist\n",
        "            title = audio_file.tag.title\n",
        "            if artist != None and title != None:\n",
        "                if len(title) > 0 and len(artist) > 0:\n",
        "                    filename = ntpath.split(f)[0] + os.sep + \\\n",
        "                                  artist.replace(\",\",\" \") + \" --- \" + \\\n",
        "                                  title.replace(\",\",\" \") + \".wav\"\n",
        "                else:\n",
        "                    filename = f.replace(\".mp3\", \".wav\")\n",
        "            else:\n",
        "                filename = f.replace(\".mp3\", \".wav\")\n",
        "        else:\n",
        "            filename = f.replace(\".mp3\", \".wav\")\n",
        "        command = \"ffmpeg -i \\\"\" + f + \"\\\" -ar \" + str(sampling_rate) + \\\n",
        "                  \" -ac \" + str(num_channels) + \" \\\"\" + filename + \"\\\"\"\n",
        "        print(command)\n",
        "        os.system(\n",
        "            command.encode('ascii', 'ignore').decode('unicode_escape').replace(\n",
        "                \"\\0\", \"\"))"
      ],
      "metadata": {
        "id": "8cNw0yKdTuPy"
      },
      "execution_count": 3,
      "outputs": []
    },
    {
      "cell_type": "code",
      "source": [
        "def read_audio_file(input_file):\n",
        "    \"\"\"\n",
        "    This function returns a numpy array that stores the audio samples of a\n",
        "    specified WAV of AIFF file\n",
        "    \"\"\"\n",
        "\n",
        "    sampling_rate = 0\n",
        "    signal = np.array([])\n",
        "    if isinstance(input_file, str):\n",
        "        extension = os.path.splitext(input_file)[1].lower()\n",
        "        if extension in ['.aif', '.aiff']:\n",
        "            sampling_rate, signal = read_aif(input_file)\n",
        "        elif extension in ['.wav']:\n",
        "            sampling_rate, signal = wavfile.read(input_file) # from scipy.io\n",
        "        elif extension in [\".mp3\", \".au\", \".ogg\"]:\n",
        "            sampling_rate, signal = read_audio_generic(input_file)\n",
        "        else:\n",
        "            print(\"Error: unknown file type {extension}\")\n",
        "    else:\n",
        "        sampling_rate, signal = read_audio_generic(input_file)\n",
        "\n",
        "    if signal.ndim == 2 and signal.shape[1] == 1:\n",
        "        signal = signal.flatten()\n",
        "\n",
        "    return sampling_rate, signal"
      ],
      "metadata": {
        "id": "6ZgV3l5TULqg"
      },
      "execution_count": 4,
      "outputs": []
    },
    {
      "cell_type": "code",
      "source": [
        "def read_aif(path):\n",
        "    \"\"\"\n",
        "    Read audio file with .aif extension\n",
        "    \"\"\"\n",
        "    sampling_rate = -1\n",
        "    signal = np.array([])\n",
        "    try:\n",
        "        with aifc.open(path, 'r') as s:\n",
        "            nframes = s.getnframes()\n",
        "            strsig = s.readframes(nframes)\n",
        "            signal = np.fromstring(strsig, np.short).byteswap()\n",
        "            sampling_rate = s.getframerate()\n",
        "    except:\n",
        "        print(\"Error: read aif file. (DECODING FAILED)\")\n",
        "    return sampling_rate, signal\n",
        "\n",
        "\n",
        "def read_audio_generic(input_file):\n",
        "    \"\"\"\n",
        "    Function to read audio files with the following extensions\n",
        "    [\".mp3\", \".au\", \".ogg\"], containing PCM (int16 or int32) data \n",
        "    \"\"\"\n",
        "    sampling_rate = -1\n",
        "    signal = np.array([])\n",
        "    try:\n",
        "        audiofile = AudioSegment.from_file(input_file)\n",
        "        data = np.array([])\n",
        "        if audiofile.sample_width == 2:\n",
        "            data = np.fromstring(audiofile._data, np.int16)\n",
        "        elif audiofile.sample_width == 4:\n",
        "            data = np.fromstring(audiofile._data, np.int32)\n",
        "\n",
        "        if data.size > 0:\n",
        "            sampling_rate = audiofile.frame_rate\n",
        "            temp_signal = []\n",
        "            for chn in list(range(audiofile.channels)):\n",
        "                temp_signal.append(data[chn::audiofile.channels])\n",
        "            signal = np.array(temp_signal).T\n",
        "    except:\n",
        "        print(\"Error: file not found or other I/O error. (DECODING FAILED)\")\n",
        "    return sampling_rate, signal\n",
        "\n",
        "\n",
        "def stereo_to_mono(signal):\n",
        "    \"\"\"\n",
        "    This function converts the input signal\n",
        "    (stored in a numpy array) to MONO (if it is STEREO)\n",
        "    \"\"\"\n",
        "\n",
        "    if signal.ndim == 2:\n",
        "        if signal.shape[1] == 1:\n",
        "            signal = signal.flatten()\n",
        "        else:\n",
        "            if signal.shape[1] == 2:\n",
        "                signal = (signal[:, 1] / 2) + (signal[:, 0] / 2)\n",
        "    return signal"
      ],
      "metadata": {
        "id": "w2ouEQjuUoYM"
      },
      "execution_count": 5,
      "outputs": []
    },
    {
      "cell_type": "code",
      "source": [
        "from pyAudioAnalysis import audioBasicIO\n",
        "from pyAudioAnalysis import ShortTermFeatures, MidTermFeatures\n",
        "import matplotlib.pyplot as plt\n",
        "from pprint import pprint"
      ],
      "metadata": {
        "id": "3yQA4GizRJOG"
      },
      "execution_count": 6,
      "outputs": []
    },
    {
      "cell_type": "code",
      "source": [
        "# Converting mp3 to wav file\n",
        "convert_dir_mp3_to_wav(\".\", 44100, 2)"
      ],
      "metadata": {
        "colab": {
          "base_uri": "https://localhost:8080/"
        },
        "id": "hVNb0kncVgD5",
        "outputId": "1fcfec0a-c6c4-4901-8b84-1fe537808cec"
      },
      "execution_count": 8,
      "outputs": [
        {
          "output_type": "stream",
          "name": "stderr",
          "text": [
            "Lame tag CRC check failed\n"
          ]
        },
        {
          "output_type": "stream",
          "name": "stdout",
          "text": [
            "ffmpeg -i \"./president_speech.mp3\" -ar 44100 -ac 2 \"./president_speech.wav\"\n"
          ]
        }
      ]
    },
    {
      "cell_type": "code",
      "source": [
        "import IPython\n",
        "IPython.display.Audio(\"president_speech.wav\")"
      ],
      "metadata": {
        "id": "8-uTML-sO0WS"
      },
      "execution_count": 10,
      "outputs": []
    },
    {
      "cell_type": "code",
      "source": [
        "# reading wav file and converting it to single (mono) channel\n",
        "[Fs, x] = audioBasicIO.read_audio_file(\"friends2.wav\")\n",
        "signal = audioBasicIO.stereo_to_mono(x)"
      ],
      "metadata": {
        "id": "3NzFjokISnAp"
      },
      "execution_count": null,
      "outputs": []
    },
    {
      "cell_type": "code",
      "source": [
        "x.shape"
      ],
      "metadata": {
        "colab": {
          "base_uri": "https://localhost:8080/"
        },
        "id": "pT3M0_L_WlSf",
        "outputId": "2d102f84-5c3b-4264-ba50-637180403031"
      },
      "execution_count": null,
      "outputs": [
        {
          "output_type": "execute_result",
          "data": {
            "text/plain": [
              "(6038674, 2)"
            ]
          },
          "metadata": {},
          "execution_count": 51
        }
      ]
    },
    {
      "cell_type": "markdown",
      "source": [
        "### Extracting short features and mid features (total=64)"
      ],
      "metadata": {
        "id": "n_sHFz9AZRCR"
      }
    },
    {
      "cell_type": "code",
      "source": [
        "F, f_names = ShortTermFeatures.feature_extraction(signal, Fs, 0.050*Fs, 0.025*Fs)"
      ],
      "metadata": {
        "id": "9tDsZAUASm4_"
      },
      "execution_count": null,
      "outputs": []
    },
    {
      "cell_type": "code",
      "source": [
        "plt.subplot(2,1,1); plt.plot(F[0,:]); plt.xlabel('Frame no'); plt.ylabel(f_names[0]) \n",
        "plt.subplot(2,1,2); plt.plot(F[1,:]); plt.xlabel('Frame no'); plt.ylabel(f_names[1]); plt.show()"
      ],
      "metadata": {
        "colab": {
          "base_uri": "https://localhost:8080/",
          "height": 279
        },
        "id": "-R1TRd7JSrho",
        "outputId": "c93a72a8-f0ad-4b08-e840-9b2786390f09"
      },
      "execution_count": null,
      "outputs": [
        {
          "output_type": "display_data",
          "data": {
            "image/png": "[encoded data removed]",
            "text/plain": [
              "<Figure size 432x288 with 2 Axes>"
            ]
          },
          "metadata": {
            "needs_background": "light"
          }
        }
      ]
    },
    {
      "cell_type": "code",
      "source": [
        "F.shape"
      ],
      "metadata": {
        "colab": {
          "base_uri": "https://localhost:8080/"
        },
        "id": "qUf9x6UUXkve",
        "outputId": "e88fc991-3f55-441d-d723-d89644143ba8"
      },
      "execution_count": null,
      "outputs": [
        {
          "output_type": "execute_result",
          "data": {
            "text/plain": [
              "(68, 15095)"
            ]
          },
          "metadata": {},
          "execution_count": 58
        }
      ]
    },
    {
      "cell_type": "code",
      "source": [
        "len(f_names)"
      ],
      "metadata": {
        "colab": {
          "base_uri": "https://localhost:8080/"
        },
        "id": "pUsd3mqoXo2M",
        "outputId": "a2a16c40-8b7e-4aa7-f7a2-5b443cb23d06"
      },
      "execution_count": null,
      "outputs": [
        {
          "output_type": "execute_result",
          "data": {
            "text/plain": [
              "68"
            ]
          },
          "metadata": {},
          "execution_count": 60
        }
      ]
    },
    {
      "cell_type": "code",
      "source": [
        "print(f_names, end=\",\")"
      ],
      "metadata": {
        "colab": {
          "base_uri": "https://localhost:8080/"
        },
        "id": "yd5nn26_YeE5",
        "outputId": "cc1922c8-6746-451f-d9b2-4c6cef2aadb8"
      },
      "execution_count": null,
      "outputs": [
        {
          "output_type": "stream",
          "name": "stdout",
          "text": [
            "['zcr', 'energy', 'energy_entropy', 'spectral_centroid', 'spectral_spread', 'spectral_entropy', 'spectral_flux', 'spectral_rolloff', 'mfcc_1', 'mfcc_2', 'mfcc_3', 'mfcc_4', 'mfcc_5', 'mfcc_6', 'mfcc_7', 'mfcc_8', 'mfcc_9', 'mfcc_10', 'mfcc_11', 'mfcc_12', 'mfcc_13', 'chroma_1', 'chroma_2', 'chroma_3', 'chroma_4', 'chroma_5', 'chroma_6', 'chroma_7', 'chroma_8', 'chroma_9', 'chroma_10', 'chroma_11', 'chroma_12', 'chroma_std', 'delta zcr', 'delta energy', 'delta energy_entropy', 'delta spectral_centroid', 'delta spectral_spread', 'delta spectral_entropy', 'delta spectral_flux', 'delta spectral_rolloff', 'delta mfcc_1', 'delta mfcc_2', 'delta mfcc_3', 'delta mfcc_4', 'delta mfcc_5', 'delta mfcc_6', 'delta mfcc_7', 'delta mfcc_8', 'delta mfcc_9', 'delta mfcc_10', 'delta mfcc_11', 'delta mfcc_12', 'delta mfcc_13', 'delta chroma_1', 'delta chroma_2', 'delta chroma_3', 'delta chroma_4', 'delta chroma_5', 'delta chroma_6', 'delta chroma_7', 'delta chroma_8', 'delta chroma_9', 'delta chroma_10', 'delta chroma_11', 'delta chroma_12', 'delta chroma_std'],"
          ]
        }
      ]
    },
    {
      "cell_type": "code",
      "source": [
        "mid_features, short_features, mid_feature_names = MidTermFeatures.mid_feature_extraction(signal, Fs, 0.050*Fs, 0.025*Fs, 0.050*Fs, 0.025*Fs)"
      ],
      "metadata": {
        "id": "G0A6YfNVYiyD"
      },
      "execution_count": null,
      "outputs": []
    },
    {
      "cell_type": "code",
      "source": [
        "F[0].shape"
      ],
      "metadata": {
        "colab": {
          "base_uri": "https://localhost:8080/"
        },
        "id": "57EngXf7Z9TN",
        "outputId": "bed5a543-bbb1-4f82-a4b7-9a2dba7bb297"
      },
      "execution_count": null,
      "outputs": [
        {
          "output_type": "execute_result",
          "data": {
            "text/plain": [
              "(15095,)"
            ]
          },
          "metadata": {},
          "execution_count": 71
        }
      ]
    },
    {
      "cell_type": "code",
      "source": [
        "mid_feature_names"
      ],
      "metadata": {
        "colab": {
          "base_uri": "https://localhost:8080/"
        },
        "id": "BA1CJn3BZ-wo",
        "outputId": "16eba4ca-ec9f-4f3b-d9ce-4b98e85d537a"
      },
      "execution_count": null,
      "outputs": [
        {
          "output_type": "execute_result",
          "data": {
            "text/plain": [
              "['zcr_mean',\n",
              " 'energy_mean',\n",
              " 'energy_entropy_mean',\n",
              " 'spectral_centroid_mean',\n",
              " 'spectral_spread_mean',\n",
              " 'spectral_entropy_mean',\n",
              " 'spectral_flux_mean',\n",
              " 'spectral_rolloff_mean',\n",
              " 'mfcc_1_mean',\n",
              " 'mfcc_2_mean',\n",
              " 'mfcc_3_mean',\n",
              " 'mfcc_4_mean',\n",
              " 'mfcc_5_mean',\n",
              " 'mfcc_6_mean',\n",
              " 'mfcc_7_mean',\n",
              " 'mfcc_8_mean',\n",
              " 'mfcc_9_mean',\n",
              " 'mfcc_10_mean',\n",
              " 'mfcc_11_mean',\n",
              " 'mfcc_12_mean',\n",
              " 'mfcc_13_mean',\n",
              " 'chroma_1_mean',\n",
              " 'chroma_2_mean',\n",
              " 'chroma_3_mean',\n",
              " 'chroma_4_mean',\n",
              " 'chroma_5_mean',\n",
              " 'chroma_6_mean',\n",
              " 'chroma_7_mean',\n",
              " 'chroma_8_mean',\n",
              " 'chroma_9_mean',\n",
              " 'chroma_10_mean',\n",
              " 'chroma_11_mean',\n",
              " 'chroma_12_mean',\n",
              " 'chroma_std_mean',\n",
              " 'delta zcr_mean',\n",
              " 'delta energy_mean',\n",
              " 'delta energy_entropy_mean',\n",
              " 'delta spectral_centroid_mean',\n",
              " 'delta spectral_spread_mean',\n",
              " 'delta spectral_entropy_mean',\n",
              " 'delta spectral_flux_mean',\n",
              " 'delta spectral_rolloff_mean',\n",
              " 'delta mfcc_1_mean',\n",
              " 'delta mfcc_2_mean',\n",
              " 'delta mfcc_3_mean',\n",
              " 'delta mfcc_4_mean',\n",
              " 'delta mfcc_5_mean',\n",
              " 'delta mfcc_6_mean',\n",
              " 'delta mfcc_7_mean',\n",
              " 'delta mfcc_8_mean',\n",
              " 'delta mfcc_9_mean',\n",
              " 'delta mfcc_10_mean',\n",
              " 'delta mfcc_11_mean',\n",
              " 'delta mfcc_12_mean',\n",
              " 'delta mfcc_13_mean',\n",
              " 'delta chroma_1_mean',\n",
              " 'delta chroma_2_mean',\n",
              " 'delta chroma_3_mean',\n",
              " 'delta chroma_4_mean',\n",
              " 'delta chroma_5_mean',\n",
              " 'delta chroma_6_mean',\n",
              " 'delta chroma_7_mean',\n",
              " 'delta chroma_8_mean',\n",
              " 'delta chroma_9_mean',\n",
              " 'delta chroma_10_mean',\n",
              " 'delta chroma_11_mean',\n",
              " 'delta chroma_12_mean',\n",
              " 'delta chroma_std_mean',\n",
              " 'zcr_std',\n",
              " 'energy_std',\n",
              " 'energy_entropy_std',\n",
              " 'spectral_centroid_std',\n",
              " 'spectral_spread_std',\n",
              " 'spectral_entropy_std',\n",
              " 'spectral_flux_std',\n",
              " 'spectral_rolloff_std',\n",
              " 'mfcc_1_std',\n",
              " 'mfcc_2_std',\n",
              " 'mfcc_3_std',\n",
              " 'mfcc_4_std',\n",
              " 'mfcc_5_std',\n",
              " 'mfcc_6_std',\n",
              " 'mfcc_7_std',\n",
              " 'mfcc_8_std',\n",
              " 'mfcc_9_std',\n",
              " 'mfcc_10_std',\n",
              " 'mfcc_11_std',\n",
              " 'mfcc_12_std',\n",
              " 'mfcc_13_std',\n",
              " 'chroma_1_std',\n",
              " 'chroma_2_std',\n",
              " 'chroma_3_std',\n",
              " 'chroma_4_std',\n",
              " 'chroma_5_std',\n",
              " 'chroma_6_std',\n",
              " 'chroma_7_std',\n",
              " 'chroma_8_std',\n",
              " 'chroma_9_std',\n",
              " 'chroma_10_std',\n",
              " 'chroma_11_std',\n",
              " 'chroma_12_std',\n",
              " 'chroma_std_std',\n",
              " 'delta zcr_std',\n",
              " 'delta energy_std',\n",
              " 'delta energy_entropy_std',\n",
              " 'delta spectral_centroid_std',\n",
              " 'delta spectral_spread_std',\n",
              " 'delta spectral_entropy_std',\n",
              " 'delta spectral_flux_std',\n",
              " 'delta spectral_rolloff_std',\n",
              " 'delta mfcc_1_std',\n",
              " 'delta mfcc_2_std',\n",
              " 'delta mfcc_3_std',\n",
              " 'delta mfcc_4_std',\n",
              " 'delta mfcc_5_std',\n",
              " 'delta mfcc_6_std',\n",
              " 'delta mfcc_7_std',\n",
              " 'delta mfcc_8_std',\n",
              " 'delta mfcc_9_std',\n",
              " 'delta mfcc_10_std',\n",
              " 'delta mfcc_11_std',\n",
              " 'delta mfcc_12_std',\n",
              " 'delta mfcc_13_std',\n",
              " 'delta chroma_1_std',\n",
              " 'delta chroma_2_std',\n",
              " 'delta chroma_3_std',\n",
              " 'delta chroma_4_std',\n",
              " 'delta chroma_5_std',\n",
              " 'delta chroma_6_std',\n",
              " 'delta chroma_7_std',\n",
              " 'delta chroma_8_std',\n",
              " 'delta chroma_9_std',\n",
              " 'delta chroma_10_std',\n",
              " 'delta chroma_11_std',\n",
              " 'delta chroma_12_std',\n",
              " 'delta chroma_std_std']"
            ]
          },
          "metadata": {},
          "execution_count": 75
        }
      ]
    },
    {
      "cell_type": "code",
      "source": [
        "Noise reduction, audio enhancement, "
      ],
      "metadata": {
        "id": "40KkWfQPa9iR"
      },
      "execution_count": null,
      "outputs": []
    }
  ]
}